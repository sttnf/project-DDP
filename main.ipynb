{
 "cells": [
  {
   "cell_type": "code",
   "execution_count": 1,
   "metadata": {},
   "outputs": [
    {
     "name": "stdout",
     "output_type": "stream",
     "text": [
      "15\n"
     ]
    }
   ],
   "source": [
    "def jumlah(n):\n",
    "    if n == 0:\n",
    "        return 0\n",
    "    else:\n",
    "        return n + jumlah(n-1)\n",
    "    \n",
    "print(jumlah(5))"
   ]
  },
  {
   "cell_type": "code",
   "execution_count": 6,
   "metadata": {},
   "outputs": [
    {
     "name": "stdout",
     "output_type": "stream",
     "text": [
      "3565\n"
     ]
    }
   ],
   "source": [
    "def cari_max(data):\n",
    "    if len(data) == 1:\n",
    "        return data[0]\n",
    "    \n",
    "    max_sementara = cari_max(data[1:])\n",
    "    return data[0] if data[0] > max_sementara else max_sementara\n",
    "\n",
    "lists = [32,3312,312,3565,76,1123,31,524,123]\n",
    "\n",
    "print(cari_max(lists))"
   ]
  },
  {
   "cell_type": "code",
   "execution_count": 33,
   "metadata": {},
   "outputs": [
    {
     "name": "stdout",
     "output_type": "stream",
     "text": [
      "31\n"
     ]
    }
   ],
   "source": [
    "def factorialRecurtion(n):\n",
    "    if n == 1:\n",
    "        return 1\n",
    "    else:\n",
    "        return n * factorialRecurtion(n-1)\n",
    "    \n",
    "def factorialIteration(n):\n",
    "    result = 1\n",
    "    for i in range(1, n+1):\n",
    "        result *= i\n",
    "    return result\n",
    "\n",
    "def fibonacciRecurtion(n):\n",
    "    if n == 0:\n",
    "        return 0\n",
    "    elif n == 1:\n",
    "        return 1\n",
    "    else:\n",
    "        return fibonacciRecurtion(n-1) + fibonacciRecurtion(n-2)\n",
    "    \n",
    "def fibonacciIteration(n):\n",
    "    a, b = 0, 1\n",
    "    for i in range(n):\n",
    "        a, b = b, a+b\n",
    "    return a\n",
    "\n",
    "def fibonacciDecomposition(n):\n",
    "    lists = []\n",
    "    a, b = 0, 1\n",
    "    for i in range(n):\n",
    "        a, b = b, a+b\n",
    "        lists.append(a)\n",
    "    return lists\n",
    "\n",
    "def factorialDecomposition(n):\n",
    "    lists = []\n",
    "    result = 1\n",
    "    for i in range(1, n+1):\n",
    "        result *= i\n",
    "        lists.append(result)\n",
    "    return lists\n",
    "\n",
    "def find_by_nama(nama, data):\n",
    "    for i in range(len(data)):\n",
    "        if data[i]['nama'] == nama:\n",
    "            return data[i]\n",
    "    return None\n",
    "\n",
    "\n",
    "list_nama  = [\n",
    "{'nama':'Reza', 'nilai':70},\n",
    "{'nama':'Ciut', 'nilai':63},\n",
    "{'nama':'Dian', 'nilai':80},\n",
    "{'nama':'Badu', 'nilai':40}\n",
    "]\n",
    "\n",
    "def cari_biner(target, data):\n",
    "    low = 0\n",
    "    high = len(data) - 1\n",
    "    while low <= high:\n",
    "        mid = (low + high) // 2\n",
    "        if data[mid] == target:\n",
    "            return mid\n",
    "        elif data[mid] < target:\n",
    "            low = mid + 1\n",
    "        else:\n",
    "            high = mid - 1\n",
    "    return None\n",
    " \n",
    "# Worst case complexity O(log n)\n",
    "print(cari_biner(32, [1,2,3,4,5,6,7,8,9,10,11,12,13,14,15,16,17,18,19,20,21,22,23,24,25,26,27,28,29,30,31,32,33,34,35,36,37,38,39,40,41,42,43,44,45,46,47,48,49,50]))\n",
    "\n"
   ]
  },
  {
   "cell_type": "code",
   "execution_count": 9,
   "metadata": {},
   "outputs": [
    {
     "name": "stdout",
     "output_type": "stream",
     "text": [
      "6\n"
     ]
    }
   ],
   "source": [
    "def swap(daftar, posisi1, posisi2):\n",
    "    daftar[posisi1], daftar[posisi2] = daftar[posisi2], daftar[posisi1]\n",
    "\n",
    "def find_min(daftar):\n",
    "    if not daftar:\n",
    "        return -1\n",
    "        \n",
    "    min_pos = 0\n",
    "    for i in range(1, len(daftar)):\n",
    "        if daftar[i] < daftar[min_pos]:\n",
    "            min_pos = i\n",
    "    return min_pos\n",
    "\n",
    "\n",
    "print(\n",
    "    find_min([32, 3312, 312, 3565, 76, 1123, 31, 524, 123])\n",
    ")"
   ]
  },
  {
   "cell_type": "code",
   "execution_count": 14,
   "metadata": {},
   "outputs": [
    {
     "name": "stdout",
     "output_type": "stream",
     "text": [
      "Umur Rafa adalah 19\n"
     ]
    }
   ],
   "source": [
    "from datetime import datetime\n",
    "class Orang: \n",
    "    lingkungan = \"RT02/10 Kelurahan Puspanegara\"\n",
    "    def __init__(self, nama, tanggal_lahir):\n",
    "        self.nama = nama\n",
    "        self.tanggal_lahir = datetime.strptime(tanggal_lahir, \"%d/%m/%Y\")\n",
    "    def tulis_deskripsi(self):\n",
    "        return f\"{self.nama} lahir pada {self.tanggal_lahir}\"\n",
    "    def umur(self):\n",
    "        now = datetime.now()\n",
    "        \n",
    "        return f\"Umur {self.nama} adalah {now.year-self.tanggal_lahir.year} tahun\"\n",
    "\n",
    "    \n",
    "rafa = Orang(\"Rafa\", \"02/10/2005\")\n",
    "print(rafa.umur())    \n",
    "\n"
   ]
  },
  {
   "cell_type": "code",
   "execution_count": 15,
   "metadata": {},
   "outputs": [
    {
     "name": "stdout",
     "output_type": "stream",
     "text": [
      "240000\n"
     ]
    }
   ],
   "source": [
    "class Pegawai:\n",
    "    lingkungan = \"RT 02/10 Puspanegara\"\n",
    "    def __init__(self, nama, jam_kerja):\n",
    "        self.nama = nama\n",
    "        self.jam_kerja = jam_kerja\n",
    "    def honor(self):\n",
    "        honor_per_jam = 30_000\n",
    "        return self.jam_kerja * honor_per_jam\n",
    "\n",
    "ilham = Pegawai(\"Iham\", 8)\n",
    "\n",
    "print(ilham.honor())\n",
    "        "
   ]
  }
 ],
 "metadata": {
  "kernelspec": {
   "display_name": "Python 3",
   "language": "python",
   "name": "python3"
  },
  "language_info": {
   "codemirror_mode": {
    "name": "ipython",
    "version": 3
   },
   "file_extension": ".py",
   "mimetype": "text/x-python",
   "name": "python",
   "nbconvert_exporter": "python",
   "pygments_lexer": "ipython3",
   "version": "3.13.1"
  }
 },
 "nbformat": 4,
 "nbformat_minor": 2
}
